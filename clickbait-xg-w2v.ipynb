{
 "cells": [
  {
   "cell_type": "code",
   "execution_count": 1,
   "id": "c526bca5",
   "metadata": {
    "_cell_guid": "b1076dfc-b9ad-4769-8c92-a6c4dae69d19",
    "_uuid": "8f2839f25d086af736a60e9eeb907d3b93b6e0e5",
    "execution": {
     "iopub.execute_input": "2025-05-27T06:50:38.135715Z",
     "iopub.status.busy": "2025-05-27T06:50:38.135494Z",
     "iopub.status.idle": "2025-05-27T06:50:39.567212Z",
     "shell.execute_reply": "2025-05-27T06:50:39.566395Z"
    },
    "papermill": {
     "duration": 1.438527,
     "end_time": "2025-05-27T06:50:39.568560",
     "exception": false,
     "start_time": "2025-05-27T06:50:38.130033",
     "status": "completed"
    },
    "tags": []
   },
   "outputs": [
    {
     "name": "stdout",
     "output_type": "stream",
     "text": [
      "/kaggle/input/fake-news-classification/train (2).csv\n",
      "/kaggle/input/fake-news-classification/evaluation.csv\n",
      "/kaggle/input/fake-news-classification/test (1).csv\n"
     ]
    }
   ],
   "source": [
    "# This Python 3 environment comes with many helpful analytics libraries installed\n",
    "# It is defined by the kaggle/python Docker image: https://github.com/kaggle/docker-python\n",
    "# For example, here's several helpful packages to load\n",
    "\n",
    "import numpy as np # linear algebra\n",
    "import pandas as pd # data processing, CSV file I/O (e.g. pd.read_csv)\n",
    "\n",
    "# Input data files are available in the read-only \"../input/\" directory\n",
    "# For example, running this (by clicking run or pressing Shift+Enter) will list all files under the input directory\n",
    "\n",
    "import os\n",
    "for dirname, _, filenames in os.walk('/kaggle/input'):\n",
    "    for filename in filenames:\n",
    "        print(os.path.join(dirname, filename))\n",
    "\n",
    "# You can write up to 20GB to the current directory (/kaggle/working/) that gets preserved as output when you create a version using \"Save & Run All\" \n",
    "# You can also write temporary files to /kaggle/temp/, but they won't be saved outside of the current session"
   ]
  },
  {
   "cell_type": "code",
   "execution_count": 2,
   "id": "217d40ac",
   "metadata": {
    "execution": {
     "iopub.execute_input": "2025-05-27T06:50:39.579836Z",
     "iopub.status.busy": "2025-05-27T06:50:39.579349Z",
     "iopub.status.idle": "2025-05-27T06:50:57.363878Z",
     "shell.execute_reply": "2025-05-27T06:50:57.363327Z"
    },
    "papermill": {
     "duration": 17.792195,
     "end_time": "2025-05-27T06:50:57.365313",
     "exception": false,
     "start_time": "2025-05-27T06:50:39.573118",
     "status": "completed"
    },
    "tags": []
   },
   "outputs": [],
   "source": [
    "import pandas as pd\n",
    "import numpy as np\n",
    "import nltk\n",
    "import string\n",
    "import gensim"
   ]
  },
  {
   "cell_type": "code",
   "execution_count": 3,
   "id": "f70096ff",
   "metadata": {
    "execution": {
     "iopub.execute_input": "2025-05-27T06:50:57.375273Z",
     "iopub.status.busy": "2025-05-27T06:50:57.374466Z",
     "iopub.status.idle": "2025-05-27T06:50:57.378413Z",
     "shell.execute_reply": "2025-05-27T06:50:57.377906Z"
    },
    "papermill": {
     "duration": 0.009623,
     "end_time": "2025-05-27T06:50:57.379445",
     "exception": false,
     "start_time": "2025-05-27T06:50:57.369822",
     "status": "completed"
    },
    "tags": []
   },
   "outputs": [],
   "source": [
    "from nltk.tokenize import word_tokenize\n",
    "from nltk.stem import WordNetLemmatizer\n",
    "from nltk.corpus import stopwords\n",
    "from sklearn.model_selection import train_test_split\n",
    "from gensim.models import Word2Vec\n",
    "from sklearn.metrics import accuracy_score, classification_report"
   ]
  },
  {
   "cell_type": "code",
   "execution_count": 4,
   "id": "6e0ed375",
   "metadata": {
    "execution": {
     "iopub.execute_input": "2025-05-27T06:50:57.388390Z",
     "iopub.status.busy": "2025-05-27T06:50:57.387845Z",
     "iopub.status.idle": "2025-05-27T06:50:57.636216Z",
     "shell.execute_reply": "2025-05-27T06:50:57.635412Z"
    },
    "papermill": {
     "duration": 0.25419,
     "end_time": "2025-05-27T06:50:57.637480",
     "exception": false,
     "start_time": "2025-05-27T06:50:57.383290",
     "status": "completed"
    },
    "tags": []
   },
   "outputs": [
    {
     "name": "stderr",
     "output_type": "stream",
     "text": [
      "[nltk_data] Downloading package stopwords to /usr/share/nltk_data...\n",
      "[nltk_data]   Package stopwords is already up-to-date!\n",
      "[nltk_data] Downloading package punkt to /usr/share/nltk_data...\n",
      "[nltk_data]   Package punkt is already up-to-date!\n",
      "[nltk_data] Downloading package punkt_tab to /usr/share/nltk_data...\n",
      "[nltk_data]   Package punkt_tab is already up-to-date!\n",
      "[nltk_data] Downloading package wordnet to /usr/share/nltk_data...\n",
      "[nltk_data]   Package wordnet is already up-to-date!\n"
     ]
    },
    {
     "data": {
      "text/plain": [
       "True"
      ]
     },
     "execution_count": 4,
     "metadata": {},
     "output_type": "execute_result"
    }
   ],
   "source": [
    "nltk.download('stopwords')\n",
    "nltk.download('punkt')\n",
    "nltk.download('punkt_tab')\n",
    "nltk.download('wordnet')"
   ]
  },
  {
   "cell_type": "code",
   "execution_count": 5,
   "id": "ee62adc3",
   "metadata": {
    "execution": {
     "iopub.execute_input": "2025-05-27T06:50:57.646405Z",
     "iopub.status.busy": "2025-05-27T06:50:57.646214Z",
     "iopub.status.idle": "2025-05-27T06:50:57.652119Z",
     "shell.execute_reply": "2025-05-27T06:50:57.651419Z"
    },
    "papermill": {
     "duration": 0.011552,
     "end_time": "2025-05-27T06:50:57.653223",
     "exception": false,
     "start_time": "2025-05-27T06:50:57.641671",
     "status": "completed"
    },
    "tags": []
   },
   "outputs": [],
   "source": [
    "eng_stopw = stopwords.words('english')\n",
    "lemmatizer = WordNetLemmatizer()\n",
    "punctuation = string.punctuation"
   ]
  },
  {
   "cell_type": "code",
   "execution_count": 6,
   "id": "67888a66",
   "metadata": {
    "execution": {
     "iopub.execute_input": "2025-05-27T06:50:57.662031Z",
     "iopub.status.busy": "2025-05-27T06:50:57.661826Z",
     "iopub.status.idle": "2025-05-27T06:50:59.561399Z",
     "shell.execute_reply": "2025-05-27T06:50:59.560459Z"
    },
    "papermill": {
     "duration": 1.905511,
     "end_time": "2025-05-27T06:50:59.562793",
     "exception": false,
     "start_time": "2025-05-27T06:50:57.657282",
     "status": "completed"
    },
    "tags": []
   },
   "outputs": [],
   "source": [
    "dataset = pd.read_csv('/kaggle/input/fake-news-classification/train (2).csv', delimiter = ';')"
   ]
  },
  {
   "cell_type": "code",
   "execution_count": 7,
   "id": "e5868548",
   "metadata": {
    "execution": {
     "iopub.execute_input": "2025-05-27T06:50:59.574809Z",
     "iopub.status.busy": "2025-05-27T06:50:59.574456Z",
     "iopub.status.idle": "2025-05-27T06:50:59.601773Z",
     "shell.execute_reply": "2025-05-27T06:50:59.600994Z"
    },
    "papermill": {
     "duration": 0.033763,
     "end_time": "2025-05-27T06:50:59.602925",
     "exception": false,
     "start_time": "2025-05-27T06:50:59.569162",
     "status": "completed"
    },
    "tags": []
   },
   "outputs": [
    {
     "name": "stdout",
     "output_type": "stream",
     "text": [
      "<class 'pandas.core.frame.DataFrame'>\n",
      "RangeIndex: 24353 entries, 0 to 24352\n",
      "Data columns (total 4 columns):\n",
      " #   Column      Non-Null Count  Dtype \n",
      "---  ------      --------------  ----- \n",
      " 0   Unnamed: 0  24353 non-null  int64 \n",
      " 1   title       24353 non-null  object\n",
      " 2   text        24353 non-null  object\n",
      " 3   label       24353 non-null  int64 \n",
      "dtypes: int64(2), object(2)\n",
      "memory usage: 761.2+ KB\n"
     ]
    }
   ],
   "source": [
    "dataset.info()"
   ]
  },
  {
   "cell_type": "code",
   "execution_count": 8,
   "id": "66097f79",
   "metadata": {
    "execution": {
     "iopub.execute_input": "2025-05-27T06:50:59.612629Z",
     "iopub.status.busy": "2025-05-27T06:50:59.612018Z",
     "iopub.status.idle": "2025-05-27T06:50:59.619652Z",
     "shell.execute_reply": "2025-05-27T06:50:59.618803Z"
    },
    "papermill": {
     "duration": 0.013899,
     "end_time": "2025-05-27T06:50:59.621166",
     "exception": false,
     "start_time": "2025-05-27T06:50:59.607267",
     "status": "completed"
    },
    "tags": []
   },
   "outputs": [],
   "source": [
    "dataset.drop(columns=['Unnamed: 0'] , inplace=True)"
   ]
  },
  {
   "cell_type": "code",
   "execution_count": 9,
   "id": "f4624d1d",
   "metadata": {
    "execution": {
     "iopub.execute_input": "2025-05-27T06:50:59.637029Z",
     "iopub.status.busy": "2025-05-27T06:50:59.636720Z",
     "iopub.status.idle": "2025-05-27T06:50:59.648416Z",
     "shell.execute_reply": "2025-05-27T06:50:59.647659Z"
    },
    "papermill": {
     "duration": 0.022581,
     "end_time": "2025-05-27T06:50:59.650093",
     "exception": false,
     "start_time": "2025-05-27T06:50:59.627512",
     "status": "completed"
    },
    "tags": []
   },
   "outputs": [
    {
     "data": {
      "text/plain": [
       "title    0\n",
       "text     0\n",
       "label    0\n",
       "dtype: int64"
      ]
     },
     "execution_count": 9,
     "metadata": {},
     "output_type": "execute_result"
    }
   ],
   "source": [
    "dataset.isnull().sum()"
   ]
  },
  {
   "cell_type": "code",
   "execution_count": 10,
   "id": "d6c7d3c1",
   "metadata": {
    "execution": {
     "iopub.execute_input": "2025-05-27T06:50:59.671500Z",
     "iopub.status.busy": "2025-05-27T06:50:59.671089Z",
     "iopub.status.idle": "2025-05-27T06:50:59.867905Z",
     "shell.execute_reply": "2025-05-27T06:50:59.866972Z"
    },
    "papermill": {
     "duration": 0.207603,
     "end_time": "2025-05-27T06:50:59.869104",
     "exception": false,
     "start_time": "2025-05-27T06:50:59.661501",
     "status": "completed"
    },
    "tags": []
   },
   "outputs": [
    {
     "name": "stdout",
     "output_type": "stream",
     "text": [
      "1\n"
     ]
    }
   ],
   "source": [
    "duplicates = dataset.duplicated()\n",
    "print(duplicates.sum())"
   ]
  },
  {
   "cell_type": "code",
   "execution_count": 11,
   "id": "cab0d648",
   "metadata": {
    "execution": {
     "iopub.execute_input": "2025-05-27T06:50:59.879807Z",
     "iopub.status.busy": "2025-05-27T06:50:59.879573Z",
     "iopub.status.idle": "2025-05-27T06:51:00.019991Z",
     "shell.execute_reply": "2025-05-27T06:51:00.019418Z"
    },
    "papermill": {
     "duration": 0.147169,
     "end_time": "2025-05-27T06:51:00.021374",
     "exception": false,
     "start_time": "2025-05-27T06:50:59.874205",
     "status": "completed"
    },
    "tags": []
   },
   "outputs": [],
   "source": [
    "dataset_cleaned = dataset.drop_duplicates()"
   ]
  },
  {
   "cell_type": "code",
   "execution_count": 12,
   "id": "c1724ac6",
   "metadata": {
    "execution": {
     "iopub.execute_input": "2025-05-27T06:51:00.031422Z",
     "iopub.status.busy": "2025-05-27T06:51:00.031179Z",
     "iopub.status.idle": "2025-05-27T06:51:00.036419Z",
     "shell.execute_reply": "2025-05-27T06:51:00.035748Z"
    },
    "papermill": {
     "duration": 0.011752,
     "end_time": "2025-05-27T06:51:00.037630",
     "exception": false,
     "start_time": "2025-05-27T06:51:00.025878",
     "status": "completed"
    },
    "tags": []
   },
   "outputs": [
    {
     "name": "stdout",
     "output_type": "stream",
     "text": [
      "RangeIndex(start=0, stop=24352, step=1)\n"
     ]
    }
   ],
   "source": [
    "dataset_cleaned = dataset_cleaned.reset_index(drop=True)\n",
    "print(dataset_cleaned.index)"
   ]
  },
  {
   "cell_type": "code",
   "execution_count": 13,
   "id": "37f5583c",
   "metadata": {
    "execution": {
     "iopub.execute_input": "2025-05-27T06:51:00.046843Z",
     "iopub.status.busy": "2025-05-27T06:51:00.046418Z",
     "iopub.status.idle": "2025-05-27T06:51:00.050415Z",
     "shell.execute_reply": "2025-05-27T06:51:00.049711Z"
    },
    "papermill": {
     "duration": 0.009621,
     "end_time": "2025-05-27T06:51:00.051519",
     "exception": false,
     "start_time": "2025-05-27T06:51:00.041898",
     "status": "completed"
    },
    "tags": []
   },
   "outputs": [],
   "source": [
    "def preprocessing_sentence(text):\n",
    "  words = word_tokenize(text.lower())\n",
    "\n",
    "  words = [w for w in words if w not in eng_stopw and w not in punctuation and w.isalpha()]\n",
    "  words = [lemmatizer.lemmatize(word) for word in words]\n",
    "\n",
    "  return words"
   ]
  },
  {
   "cell_type": "code",
   "execution_count": 14,
   "id": "ee3b7e7f",
   "metadata": {
    "execution": {
     "iopub.execute_input": "2025-05-27T06:51:00.060866Z",
     "iopub.status.busy": "2025-05-27T06:51:00.060459Z",
     "iopub.status.idle": "2025-05-27T06:52:32.076145Z",
     "shell.execute_reply": "2025-05-27T06:52:32.075313Z"
    },
    "papermill": {
     "duration": 92.02209,
     "end_time": "2025-05-27T06:52:32.077723",
     "exception": false,
     "start_time": "2025-05-27T06:51:00.055633",
     "status": "completed"
    },
    "tags": []
   },
   "outputs": [],
   "source": [
    "clean_text = dataset_cleaned['text'].apply(preprocessing_sentence)\n",
    "clean_title = dataset_cleaned['title'].apply(preprocessing_sentence)"
   ]
  },
  {
   "cell_type": "code",
   "execution_count": 15,
   "id": "3c2a0b6b",
   "metadata": {
    "execution": {
     "iopub.execute_input": "2025-05-27T06:52:32.088107Z",
     "iopub.status.busy": "2025-05-27T06:52:32.087604Z",
     "iopub.status.idle": "2025-05-27T06:52:32.092701Z",
     "shell.execute_reply": "2025-05-27T06:52:32.092218Z"
    },
    "papermill": {
     "duration": 0.011212,
     "end_time": "2025-05-27T06:52:32.093692",
     "exception": false,
     "start_time": "2025-05-27T06:52:32.082480",
     "status": "completed"
    },
    "tags": []
   },
   "outputs": [],
   "source": [
    "X = pd.DataFrame({'title': clean_title, 'text': clean_text})\n",
    "y = dataset_cleaned['label']"
   ]
  },
  {
   "cell_type": "code",
   "execution_count": 16,
   "id": "0d6697eb",
   "metadata": {
    "execution": {
     "iopub.execute_input": "2025-05-27T06:52:32.102766Z",
     "iopub.status.busy": "2025-05-27T06:52:32.102596Z",
     "iopub.status.idle": "2025-05-27T06:52:32.125685Z",
     "shell.execute_reply": "2025-05-27T06:52:32.124958Z"
    },
    "papermill": {
     "duration": 0.028636,
     "end_time": "2025-05-27T06:52:32.126697",
     "exception": false,
     "start_time": "2025-05-27T06:52:32.098061",
     "status": "completed"
    },
    "tags": []
   },
   "outputs": [
    {
     "data": {
      "text/html": [
       "<div>\n",
       "<style scoped>\n",
       "    .dataframe tbody tr th:only-of-type {\n",
       "        vertical-align: middle;\n",
       "    }\n",
       "\n",
       "    .dataframe tbody tr th {\n",
       "        vertical-align: top;\n",
       "    }\n",
       "\n",
       "    .dataframe thead th {\n",
       "        text-align: right;\n",
       "    }\n",
       "</style>\n",
       "<table border=\"1\" class=\"dataframe\">\n",
       "  <thead>\n",
       "    <tr style=\"text-align: right;\">\n",
       "      <th></th>\n",
       "      <th>title</th>\n",
       "      <th>text</th>\n",
       "    </tr>\n",
       "  </thead>\n",
       "  <tbody>\n",
       "    <tr>\n",
       "      <th>0</th>\n",
       "      <td>[palestinian, switch, christmas, light, bethle...</td>\n",
       "      <td>[ramallah, west, bank, reuters, palestinian, s...</td>\n",
       "    </tr>\n",
       "    <tr>\n",
       "      <th>1</th>\n",
       "      <td>[china, say, trump, call, taiwan, president, w...</td>\n",
       "      <td>[beijing, reuters, donald, trump, call, taiwan...</td>\n",
       "    </tr>\n",
       "    <tr>\n",
       "      <th>2</th>\n",
       "      <td>[fail, trump, organization, credit, score, mak...</td>\n",
       "      <td>[controversy, trump, personal, tax, return, co...</td>\n",
       "    </tr>\n",
       "    <tr>\n",
       "      <th>3</th>\n",
       "      <td>[zimbabwe, military, chief, china, trip, norma...</td>\n",
       "      <td>[beijing, reuters, trip, beijing, last, week, ...</td>\n",
       "    </tr>\n",
       "    <tr>\n",
       "      <th>4</th>\n",
       "      <td>[uncourageous, president, ever, receives, cour...</td>\n",
       "      <td>[never, uncourageous, person, white, house, ba...</td>\n",
       "    </tr>\n",
       "    <tr>\n",
       "      <th>...</th>\n",
       "      <td>...</td>\n",
       "      <td>...</td>\n",
       "    </tr>\n",
       "    <tr>\n",
       "      <th>24347</th>\n",
       "      <td>[mexico, senate, committee, ok, air, transport...</td>\n",
       "      <td>[mexico, city, reuters, key, committee, mexico...</td>\n",
       "    </tr>\n",
       "    <tr>\n",
       "      <th>24348</th>\n",
       "      <td>[breaking, hillary, clinton, state, department...</td>\n",
       "      <td>[toast, bigger, trouble, thought, much, whole,...</td>\n",
       "    </tr>\n",
       "    <tr>\n",
       "      <th>24349</th>\n",
       "      <td>[trump, break, stump, speech, admire, beautifu...</td>\n",
       "      <td>[kremlin, nato, created, agression, russia, to...</td>\n",
       "    </tr>\n",
       "    <tr>\n",
       "      <th>24350</th>\n",
       "      <td>[nfl, player, delivers, courageous, message, s...</td>\n",
       "      <td>[dallas, cowboy, star, wide, receiver, dez, br...</td>\n",
       "    </tr>\n",
       "    <tr>\n",
       "      <th>24351</th>\n",
       "      <td>[nordstrom, stock, take, nosedive, trump, twee...</td>\n",
       "      <td>[update, nordstrom, stock, closed, slightly, t...</td>\n",
       "    </tr>\n",
       "  </tbody>\n",
       "</table>\n",
       "<p>24352 rows × 2 columns</p>\n",
       "</div>"
      ],
      "text/plain": [
       "                                                   title  \\\n",
       "0      [palestinian, switch, christmas, light, bethle...   \n",
       "1      [china, say, trump, call, taiwan, president, w...   \n",
       "2      [fail, trump, organization, credit, score, mak...   \n",
       "3      [zimbabwe, military, chief, china, trip, norma...   \n",
       "4      [uncourageous, president, ever, receives, cour...   \n",
       "...                                                  ...   \n",
       "24347  [mexico, senate, committee, ok, air, transport...   \n",
       "24348  [breaking, hillary, clinton, state, department...   \n",
       "24349  [trump, break, stump, speech, admire, beautifu...   \n",
       "24350  [nfl, player, delivers, courageous, message, s...   \n",
       "24351  [nordstrom, stock, take, nosedive, trump, twee...   \n",
       "\n",
       "                                                    text  \n",
       "0      [ramallah, west, bank, reuters, palestinian, s...  \n",
       "1      [beijing, reuters, donald, trump, call, taiwan...  \n",
       "2      [controversy, trump, personal, tax, return, co...  \n",
       "3      [beijing, reuters, trip, beijing, last, week, ...  \n",
       "4      [never, uncourageous, person, white, house, ba...  \n",
       "...                                                  ...  \n",
       "24347  [mexico, city, reuters, key, committee, mexico...  \n",
       "24348  [toast, bigger, trouble, thought, much, whole,...  \n",
       "24349  [kremlin, nato, created, agression, russia, to...  \n",
       "24350  [dallas, cowboy, star, wide, receiver, dez, br...  \n",
       "24351  [update, nordstrom, stock, closed, slightly, t...  \n",
       "\n",
       "[24352 rows x 2 columns]"
      ]
     },
     "execution_count": 16,
     "metadata": {},
     "output_type": "execute_result"
    }
   ],
   "source": [
    "X"
   ]
  },
  {
   "cell_type": "code",
   "execution_count": 17,
   "id": "75f30998",
   "metadata": {
    "execution": {
     "iopub.execute_input": "2025-05-27T06:52:32.136754Z",
     "iopub.status.busy": "2025-05-27T06:52:32.136236Z",
     "iopub.status.idle": "2025-05-27T06:52:32.403737Z",
     "shell.execute_reply": "2025-05-27T06:52:32.402992Z"
    },
    "papermill": {
     "duration": 0.273925,
     "end_time": "2025-05-27T06:52:32.405062",
     "exception": false,
     "start_time": "2025-05-27T06:52:32.131137",
     "status": "completed"
    },
    "tags": []
   },
   "outputs": [],
   "source": [
    "X['combined_text'] = X['title'] + X['text']"
   ]
  },
  {
   "cell_type": "code",
   "execution_count": 18,
   "id": "9931e8c0",
   "metadata": {
    "execution": {
     "iopub.execute_input": "2025-05-27T06:52:32.415277Z",
     "iopub.status.busy": "2025-05-27T06:52:32.415001Z",
     "iopub.status.idle": "2025-05-27T06:52:32.451050Z",
     "shell.execute_reply": "2025-05-27T06:52:32.450312Z"
    },
    "papermill": {
     "duration": 0.042463,
     "end_time": "2025-05-27T06:52:32.452296",
     "exception": false,
     "start_time": "2025-05-27T06:52:32.409833",
     "status": "completed"
    },
    "tags": []
   },
   "outputs": [],
   "source": [
    "X_train, X_temp, y_train, y_temp = train_test_split(X, y, test_size=0.3, random_state=42, stratify=y)\n",
    "X_val, X_test, y_val, y_test = train_test_split(X_temp, y_temp, test_size=0.5, random_state=42, stratify=y_temp)"
   ]
  },
  {
   "cell_type": "code",
   "execution_count": 19,
   "id": "712a2f79",
   "metadata": {
    "execution": {
     "iopub.execute_input": "2025-05-27T06:52:32.462293Z",
     "iopub.status.busy": "2025-05-27T06:52:32.462096Z",
     "iopub.status.idle": "2025-05-27T06:52:32.474422Z",
     "shell.execute_reply": "2025-05-27T06:52:32.473804Z"
    },
    "papermill": {
     "duration": 0.018345,
     "end_time": "2025-05-27T06:52:32.475580",
     "exception": false,
     "start_time": "2025-05-27T06:52:32.457235",
     "status": "completed"
    },
    "tags": []
   },
   "outputs": [],
   "source": [
    "X_train = X_train.reset_index(drop=True)\n",
    "y_train = y_train.reset_index(drop=True)\n",
    "X_val = X_val.reset_index(drop=True)\n",
    "y_val = y_val.reset_index(drop=True)\n",
    "X_test = X_test.reset_index(drop=True)\n",
    "y_test = y_test.reset_index(drop=True)"
   ]
  },
  {
   "cell_type": "code",
   "execution_count": 20,
   "id": "366a2531",
   "metadata": {
    "execution": {
     "iopub.execute_input": "2025-05-27T06:52:32.485544Z",
     "iopub.status.busy": "2025-05-27T06:52:32.484871Z",
     "iopub.status.idle": "2025-05-27T06:52:32.928007Z",
     "shell.execute_reply": "2025-05-27T06:52:32.927204Z"
    },
    "papermill": {
     "duration": 0.449546,
     "end_time": "2025-05-27T06:52:32.929517",
     "exception": false,
     "start_time": "2025-05-27T06:52:32.479971",
     "status": "completed"
    },
    "tags": []
   },
   "outputs": [],
   "source": [
    "X_train['combined_text'] = X_train['title'] + X_train['text']\n",
    "X_val['combined_text'] = X_val['title'] + X_val['text']\n",
    "X_test['combined_text'] = X_test['title'] + X_test['text']"
   ]
  },
  {
   "cell_type": "code",
   "execution_count": 21,
   "id": "06f789e1",
   "metadata": {
    "execution": {
     "iopub.execute_input": "2025-05-27T06:52:32.940005Z",
     "iopub.status.busy": "2025-05-27T06:52:32.939770Z",
     "iopub.status.idle": "2025-05-27T06:53:39.293365Z",
     "shell.execute_reply": "2025-05-27T06:53:39.292614Z"
    },
    "papermill": {
     "duration": 66.364295,
     "end_time": "2025-05-27T06:53:39.298752",
     "exception": false,
     "start_time": "2025-05-27T06:52:32.934457",
     "status": "completed"
    },
    "tags": []
   },
   "outputs": [
    {
     "name": "stdout",
     "output_type": "stream",
     "text": [
      "34555\n",
      "['trump', 'said', 'state', 'would', 'president', 'people', 'republican', 'one', 'year', 'new']\n",
      "[('dispossessed', 0.683393657207489), ('person', 0.6661546230316162), ('sodomite', 0.6628092527389526), ('folk', 0.6619443297386169), ('others', 0.6594569683074951), ('penniless', 0.657457172870636), ('helpless', 0.6544690132141113), ('predominately', 0.6503061652183533), ('unbearable', 0.648444652557373), ('destitute', 0.6453390121459961)]\n"
     ]
    }
   ],
   "source": [
    "sentence = X_train['combined_text'].tolist()\n",
    "word2vec_model = Word2Vec(sentence, vector_size=100, window=5, min_count=3, sg=1)\n",
    "print(len(word2vec_model.wv))  # Untuk menghitung ada berapa kata unik di model\n",
    "print(word2vec_model.wv.index_to_key[:10])\n",
    "print(word2vec_model.wv.most_similar('people'))"
   ]
  },
  {
   "cell_type": "code",
   "execution_count": 22,
   "id": "bf2469ab",
   "metadata": {
    "execution": {
     "iopub.execute_input": "2025-05-27T06:53:39.308786Z",
     "iopub.status.busy": "2025-05-27T06:53:39.308343Z",
     "iopub.status.idle": "2025-05-27T06:53:39.374455Z",
     "shell.execute_reply": "2025-05-27T06:53:39.373902Z"
    },
    "papermill": {
     "duration": 0.072248,
     "end_time": "2025-05-27T06:53:39.375677",
     "exception": false,
     "start_time": "2025-05-27T06:53:39.303429",
     "status": "completed"
    },
    "tags": []
   },
   "outputs": [],
   "source": [
    "word2vec_model.save(\"word2vec_model_final.bin\")"
   ]
  },
  {
   "cell_type": "code",
   "execution_count": 23,
   "id": "5c74e2a6",
   "metadata": {
    "execution": {
     "iopub.execute_input": "2025-05-27T06:53:39.385764Z",
     "iopub.status.busy": "2025-05-27T06:53:39.385550Z",
     "iopub.status.idle": "2025-05-27T06:53:46.071834Z",
     "shell.execute_reply": "2025-05-27T06:53:46.071001Z"
    },
    "papermill": {
     "duration": 6.692777,
     "end_time": "2025-05-27T06:53:46.073321",
     "exception": false,
     "start_time": "2025-05-27T06:53:39.380544",
     "status": "completed"
    },
    "tags": []
   },
   "outputs": [],
   "source": [
    "def get_vector(words, model, vector_size=100):\n",
    "    vectors = [model.wv[word] for word in words if word in model.wv] # Cek apakah kata2\n",
    "    # ada di model, karena dalam pelatihan model, terdapat min_count = 3 sehingga kata yang\n",
    "    # frekuensinya < 3 akan dibuang\n",
    "\n",
    "    if len(vectors) == 0:\n",
    "        return np.zeros(vector_size)\n",
    "    return np.mean(vectors, axis=0)\n",
    "\n",
    "X_train_vectors = np.array([get_vector(words, word2vec_model) for words in sentence])"
   ]
  },
  {
   "cell_type": "code",
   "execution_count": 24,
   "id": "56e90102",
   "metadata": {
    "execution": {
     "iopub.execute_input": "2025-05-27T06:53:46.084067Z",
     "iopub.status.busy": "2025-05-27T06:53:46.083791Z",
     "iopub.status.idle": "2025-05-27T06:53:48.071499Z",
     "shell.execute_reply": "2025-05-27T06:53:48.070801Z"
    },
    "papermill": {
     "duration": 1.994403,
     "end_time": "2025-05-27T06:53:48.072733",
     "exception": false,
     "start_time": "2025-05-27T06:53:46.078330",
     "status": "completed"
    },
    "tags": []
   },
   "outputs": [
    {
     "data": {
      "text/html": [
       "<style>#sk-container-id-1 {color: black;background-color: white;}#sk-container-id-1 pre{padding: 0;}#sk-container-id-1 div.sk-toggleable {background-color: white;}#sk-container-id-1 label.sk-toggleable__label {cursor: pointer;display: block;width: 100%;margin-bottom: 0;padding: 0.3em;box-sizing: border-box;text-align: center;}#sk-container-id-1 label.sk-toggleable__label-arrow:before {content: \"▸\";float: left;margin-right: 0.25em;color: #696969;}#sk-container-id-1 label.sk-toggleable__label-arrow:hover:before {color: black;}#sk-container-id-1 div.sk-estimator:hover label.sk-toggleable__label-arrow:before {color: black;}#sk-container-id-1 div.sk-toggleable__content {max-height: 0;max-width: 0;overflow: hidden;text-align: left;background-color: #f0f8ff;}#sk-container-id-1 div.sk-toggleable__content pre {margin: 0.2em;color: black;border-radius: 0.25em;background-color: #f0f8ff;}#sk-container-id-1 input.sk-toggleable__control:checked~div.sk-toggleable__content {max-height: 200px;max-width: 100%;overflow: auto;}#sk-container-id-1 input.sk-toggleable__control:checked~label.sk-toggleable__label-arrow:before {content: \"▾\";}#sk-container-id-1 div.sk-estimator input.sk-toggleable__control:checked~label.sk-toggleable__label {background-color: #d4ebff;}#sk-container-id-1 div.sk-label input.sk-toggleable__control:checked~label.sk-toggleable__label {background-color: #d4ebff;}#sk-container-id-1 input.sk-hidden--visually {border: 0;clip: rect(1px 1px 1px 1px);clip: rect(1px, 1px, 1px, 1px);height: 1px;margin: -1px;overflow: hidden;padding: 0;position: absolute;width: 1px;}#sk-container-id-1 div.sk-estimator {font-family: monospace;background-color: #f0f8ff;border: 1px dotted black;border-radius: 0.25em;box-sizing: border-box;margin-bottom: 0.5em;}#sk-container-id-1 div.sk-estimator:hover {background-color: #d4ebff;}#sk-container-id-1 div.sk-parallel-item::after {content: \"\";width: 100%;border-bottom: 1px solid gray;flex-grow: 1;}#sk-container-id-1 div.sk-label:hover label.sk-toggleable__label {background-color: #d4ebff;}#sk-container-id-1 div.sk-serial::before {content: \"\";position: absolute;border-left: 1px solid gray;box-sizing: border-box;top: 0;bottom: 0;left: 50%;z-index: 0;}#sk-container-id-1 div.sk-serial {display: flex;flex-direction: column;align-items: center;background-color: white;padding-right: 0.2em;padding-left: 0.2em;position: relative;}#sk-container-id-1 div.sk-item {position: relative;z-index: 1;}#sk-container-id-1 div.sk-parallel {display: flex;align-items: stretch;justify-content: center;background-color: white;position: relative;}#sk-container-id-1 div.sk-item::before, #sk-container-id-1 div.sk-parallel-item::before {content: \"\";position: absolute;border-left: 1px solid gray;box-sizing: border-box;top: 0;bottom: 0;left: 50%;z-index: -1;}#sk-container-id-1 div.sk-parallel-item {display: flex;flex-direction: column;z-index: 1;position: relative;background-color: white;}#sk-container-id-1 div.sk-parallel-item:first-child::after {align-self: flex-end;width: 50%;}#sk-container-id-1 div.sk-parallel-item:last-child::after {align-self: flex-start;width: 50%;}#sk-container-id-1 div.sk-parallel-item:only-child::after {width: 0;}#sk-container-id-1 div.sk-dashed-wrapped {border: 1px dashed gray;margin: 0 0.4em 0.5em 0.4em;box-sizing: border-box;padding-bottom: 0.4em;background-color: white;}#sk-container-id-1 div.sk-label label {font-family: monospace;font-weight: bold;display: inline-block;line-height: 1.2em;}#sk-container-id-1 div.sk-label-container {text-align: center;}#sk-container-id-1 div.sk-container {/* jupyter's `normalize.less` sets `[hidden] { display: none; }` but bootstrap.min.css set `[hidden] { display: none !important; }` so we also need the `!important` here to be able to override the default hidden behavior on the sphinx rendered scikit-learn.org. See: https://github.com/scikit-learn/scikit-learn/issues/21755 */display: inline-block !important;position: relative;}#sk-container-id-1 div.sk-text-repr-fallback {display: none;}</style><div id=\"sk-container-id-1\" class=\"sk-top-container\"><div class=\"sk-text-repr-fallback\"><pre>XGBClassifier(base_score=None, booster=None, callbacks=None,\n",
       "              colsample_bylevel=None, colsample_bynode=None,\n",
       "              colsample_bytree=None, device=None, early_stopping_rounds=None,\n",
       "              enable_categorical=False, eval_metric=&#x27;logloss&#x27;,\n",
       "              feature_types=None, gamma=None, grow_policy=None,\n",
       "              importance_type=None, interaction_constraints=None,\n",
       "              learning_rate=None, max_bin=None, max_cat_threshold=None,\n",
       "              max_cat_to_onehot=None, max_delta_step=None, max_depth=None,\n",
       "              max_leaves=None, min_child_weight=None, missing=nan,\n",
       "              monotone_constraints=None, multi_strategy=None, n_estimators=None,\n",
       "              n_jobs=None, num_parallel_tree=None, random_state=None, ...)</pre><b>In a Jupyter environment, please rerun this cell to show the HTML representation or trust the notebook. <br />On GitHub, the HTML representation is unable to render, please try loading this page with nbviewer.org.</b></div><div class=\"sk-container\" hidden><div class=\"sk-item\"><div class=\"sk-estimator sk-toggleable\"><input class=\"sk-toggleable__control sk-hidden--visually\" id=\"sk-estimator-id-1\" type=\"checkbox\" checked><label for=\"sk-estimator-id-1\" class=\"sk-toggleable__label sk-toggleable__label-arrow\">XGBClassifier</label><div class=\"sk-toggleable__content\"><pre>XGBClassifier(base_score=None, booster=None, callbacks=None,\n",
       "              colsample_bylevel=None, colsample_bynode=None,\n",
       "              colsample_bytree=None, device=None, early_stopping_rounds=None,\n",
       "              enable_categorical=False, eval_metric=&#x27;logloss&#x27;,\n",
       "              feature_types=None, gamma=None, grow_policy=None,\n",
       "              importance_type=None, interaction_constraints=None,\n",
       "              learning_rate=None, max_bin=None, max_cat_threshold=None,\n",
       "              max_cat_to_onehot=None, max_delta_step=None, max_depth=None,\n",
       "              max_leaves=None, min_child_weight=None, missing=nan,\n",
       "              monotone_constraints=None, multi_strategy=None, n_estimators=None,\n",
       "              n_jobs=None, num_parallel_tree=None, random_state=None, ...)</pre></div></div></div></div></div>"
      ],
      "text/plain": [
       "XGBClassifier(base_score=None, booster=None, callbacks=None,\n",
       "              colsample_bylevel=None, colsample_bynode=None,\n",
       "              colsample_bytree=None, device=None, early_stopping_rounds=None,\n",
       "              enable_categorical=False, eval_metric='logloss',\n",
       "              feature_types=None, gamma=None, grow_policy=None,\n",
       "              importance_type=None, interaction_constraints=None,\n",
       "              learning_rate=None, max_bin=None, max_cat_threshold=None,\n",
       "              max_cat_to_onehot=None, max_delta_step=None, max_depth=None,\n",
       "              max_leaves=None, min_child_weight=None, missing=nan,\n",
       "              monotone_constraints=None, multi_strategy=None, n_estimators=None,\n",
       "              n_jobs=None, num_parallel_tree=None, random_state=None, ...)"
      ]
     },
     "execution_count": 24,
     "metadata": {},
     "output_type": "execute_result"
    }
   ],
   "source": [
    "from xgboost import XGBClassifier\n",
    "\n",
    "xgb_model = XGBClassifier(use_label_encoder=False, eval_metric='logloss')\n",
    "xgb_model.fit(X_train_vectors, y_train)"
   ]
  },
  {
   "cell_type": "code",
   "execution_count": 25,
   "id": "437d7243",
   "metadata": {
    "execution": {
     "iopub.execute_input": "2025-05-27T06:53:48.083335Z",
     "iopub.status.busy": "2025-05-27T06:53:48.083119Z",
     "iopub.status.idle": "2025-05-27T06:53:48.086704Z",
     "shell.execute_reply": "2025-05-27T06:53:48.086059Z"
    },
    "papermill": {
     "duration": 0.010025,
     "end_time": "2025-05-27T06:53:48.087732",
     "exception": false,
     "start_time": "2025-05-27T06:53:48.077707",
     "status": "completed"
    },
    "tags": []
   },
   "outputs": [],
   "source": [
    "test_data = X_test['combined_text'].tolist()"
   ]
  },
  {
   "cell_type": "code",
   "execution_count": 26,
   "id": "3ad56d0e",
   "metadata": {
    "execution": {
     "iopub.execute_input": "2025-05-27T06:53:48.098055Z",
     "iopub.status.busy": "2025-05-27T06:53:48.097628Z",
     "iopub.status.idle": "2025-05-27T06:53:49.517298Z",
     "shell.execute_reply": "2025-05-27T06:53:49.516711Z"
    },
    "papermill": {
     "duration": 1.426242,
     "end_time": "2025-05-27T06:53:49.518898",
     "exception": false,
     "start_time": "2025-05-27T06:53:48.092656",
     "status": "completed"
    },
    "tags": []
   },
   "outputs": [],
   "source": [
    "X_test_vectors = np.array([get_vector(words, word2vec_model) for words in test_data])"
   ]
  },
  {
   "cell_type": "code",
   "execution_count": 27,
   "id": "492ecf6e",
   "metadata": {
    "execution": {
     "iopub.execute_input": "2025-05-27T06:53:49.529728Z",
     "iopub.status.busy": "2025-05-27T06:53:49.529514Z",
     "iopub.status.idle": "2025-05-27T06:53:49.539603Z",
     "shell.execute_reply": "2025-05-27T06:53:49.539133Z"
    },
    "papermill": {
     "duration": 0.016674,
     "end_time": "2025-05-27T06:53:49.540847",
     "exception": false,
     "start_time": "2025-05-27T06:53:49.524173",
     "status": "completed"
    },
    "tags": []
   },
   "outputs": [],
   "source": [
    "predictions = xgb_model.predict(X_test_vectors)"
   ]
  },
  {
   "cell_type": "code",
   "execution_count": 28,
   "id": "5c17acf8",
   "metadata": {
    "execution": {
     "iopub.execute_input": "2025-05-27T06:53:49.553837Z",
     "iopub.status.busy": "2025-05-27T06:53:49.553639Z",
     "iopub.status.idle": "2025-05-27T06:53:49.559041Z",
     "shell.execute_reply": "2025-05-27T06:53:49.558320Z"
    },
    "papermill": {
     "duration": 0.013405,
     "end_time": "2025-05-27T06:53:49.560186",
     "exception": false,
     "start_time": "2025-05-27T06:53:49.546781",
     "status": "completed"
    },
    "tags": []
   },
   "outputs": [
    {
     "name": "stdout",
     "output_type": "stream",
     "text": [
      "Accuracy: 0.9471667122912675\n"
     ]
    }
   ],
   "source": [
    "accuracy = accuracy_score(y_test, predictions)\n",
    "print(\"Accuracy:\", accuracy)"
   ]
  },
  {
   "cell_type": "code",
   "execution_count": 29,
   "id": "1f5493ba",
   "metadata": {
    "execution": {
     "iopub.execute_input": "2025-05-27T06:53:49.570534Z",
     "iopub.status.busy": "2025-05-27T06:53:49.570307Z",
     "iopub.status.idle": "2025-05-27T06:53:49.573548Z",
     "shell.execute_reply": "2025-05-27T06:53:49.572911Z"
    },
    "papermill": {
     "duration": 0.009775,
     "end_time": "2025-05-27T06:53:49.574916",
     "exception": false,
     "start_time": "2025-05-27T06:53:49.565141",
     "status": "completed"
    },
    "tags": []
   },
   "outputs": [],
   "source": [
    "import joblib\n",
    "import xgboost as xgb"
   ]
  },
  {
   "cell_type": "code",
   "execution_count": 30,
   "id": "cc30d78a",
   "metadata": {
    "execution": {
     "iopub.execute_input": "2025-05-27T06:53:49.588442Z",
     "iopub.status.busy": "2025-05-27T06:53:49.588265Z",
     "iopub.status.idle": "2025-05-27T06:53:49.596438Z",
     "shell.execute_reply": "2025-05-27T06:53:49.595984Z"
    },
    "papermill": {
     "duration": 0.01724,
     "end_time": "2025-05-27T06:53:49.597545",
     "exception": false,
     "start_time": "2025-05-27T06:53:49.580305",
     "status": "completed"
    },
    "tags": []
   },
   "outputs": [
    {
     "data": {
      "text/plain": [
       "['/kaggle/working/xgboost_hoax_classifier_final.joblib']"
      ]
     },
     "execution_count": 30,
     "metadata": {},
     "output_type": "execute_result"
    }
   ],
   "source": [
    "model_save_path = \"/kaggle/working/xgboost_hoax_classifier_final.joblib\"\n",
    "\n",
    "\n",
    "joblib.dump(xgb_model, model_save_path)"
   ]
  }
 ],
 "metadata": {
  "kaggle": {
   "accelerator": "nvidiaTeslaT4",
   "dataSources": [
    {
     "datasetId": 5926278,
     "sourceId": 9693156,
     "sourceType": "datasetVersion"
    }
   ],
   "dockerImageVersionId": 31041,
   "isGpuEnabled": true,
   "isInternetEnabled": true,
   "language": "python",
   "sourceType": "notebook"
  },
  "kernelspec": {
   "display_name": "Python 3",
   "language": "python",
   "name": "python3"
  },
  "language_info": {
   "codemirror_mode": {
    "name": "ipython",
    "version": 3
   },
   "file_extension": ".py",
   "mimetype": "text/x-python",
   "name": "python",
   "nbconvert_exporter": "python",
   "pygments_lexer": "ipython3",
   "version": "3.11.11"
  },
  "papermill": {
   "default_parameters": {},
   "duration": 198.365169,
   "end_time": "2025-05-27T06:53:52.321328",
   "environment_variables": {},
   "exception": null,
   "input_path": "__notebook__.ipynb",
   "output_path": "__notebook__.ipynb",
   "parameters": {},
   "start_time": "2025-05-27T06:50:33.956159",
   "version": "2.6.0"
  }
 },
 "nbformat": 4,
 "nbformat_minor": 5
}
